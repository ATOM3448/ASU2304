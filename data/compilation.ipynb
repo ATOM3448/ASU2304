{
 "cells": [
  {
   "cell_type": "code",
   "execution_count": null,
   "metadata": {},
   "outputs": [],
   "source": [
    "import pandas as pd\n",
    "import numpy as np"
   ]
  },
  {
   "cell_type": "markdown",
   "metadata": {},
   "source": [
    "Необходимо привести данные к виду:\n",
    "|Имя дисциплины|Семестр|Посещаемость лекций 1 пром|Посещаемость лекций 2 пром|Посещаемость лекций 3 пром|Посещаемость практик 1 пром|Посещаемость практик 2 пром|Посещаемость практик 3 пром|КТ 1|КТ 2|Экзамен|Балл ктр|Балл лаб|\n",
    "|-|-|-|-|-|-|-|-|-|-|-|-|-|\n",
    "|Имя|Семестр|[0,1]|[0,1]|[0,1]|[0,1]|[0,1]|[0,1]|[0,1]|[0,1]|[0,1]|1|1|\n",
    "\n",
    "# Реализация"
   ]
  },
  {
   "cell_type": "markdown",
   "metadata": {},
   "source": [
    "Берем таблицу attendance-students"
   ]
  },
  {
   "cell_type": "code",
   "execution_count": null,
   "metadata": {},
   "outputs": [],
   "source": [
    "attendance_students = pd.read_csv('C:\\\\MyFolders\\\\ASU2304\\\\TEST\\\\data\\\\attendance\\\\attendance-students.csv').rename(columns={'id':'attendance_id', 'contingent_id':'connection_id'})\n",
    "\n",
    "attendance_students.head(5)"
   ]
  },
  {
   "cell_type": "markdown",
   "metadata": {},
   "source": [
    "Берем таблицу ocenka-students"
   ]
  },
  {
   "cell_type": "code",
   "execution_count": null,
   "metadata": {},
   "outputs": [],
   "source": [
    "ocenka_students = pd.read_csv('C:\\\\MyFolders\\\\ASU2304\\\\TEST\\\\data\\\\ocenka\\\\ocenka-students.csv').rename(columns={'id':'ocenka_id', 'study_id':'connection_id'})\n",
    "\n",
    "ocenka_students.head(5)"
   ]
  },
  {
   "cell_type": "markdown",
   "metadata": {},
   "source": [
    "Добавляем эти таблицы в мастер-таблицу"
   ]
  },
  {
   "cell_type": "code",
   "execution_count": null,
   "metadata": {},
   "outputs": [],
   "source": [
    "master_table = attendance_students.set_index('connection_id').join(ocenka_students.set_index('connection_id')).dropna()\n",
    "\n",
    "master_table.head(5)"
   ]
  },
  {
   "cell_type": "markdown",
   "metadata": {},
   "source": [
    "Удаляем из таблицы все кроме id"
   ]
  },
  {
   "cell_type": "code",
   "execution_count": null,
   "metadata": {},
   "outputs": [],
   "source": [
    "master_table.drop(columns=['enrollment_at', 'deleted_at'], axis=1, inplace=True)\n",
    "\n",
    "master_table.head(5)"
   ]
  },
  {
   "cell_type": "markdown",
   "metadata": {},
   "source": [
    "Добавляем в таблицу группы и удаляем все, кроме id студентов и групп.\n",
    "\n",
    "В дальнейшем в принципе будет удаляться все, кроме интересующей информации, даже если придется её потом снова добавлять"
   ]
  },
  {
   "cell_type": "code",
   "execution_count": null,
   "metadata": {},
   "outputs": [],
   "source": [
    "ocenka_groups = pd.read_csv('C:\\\\MyFolders\\\\ASU2304\\\\TEST\\\\data\\\\ocenka\\\\ocenka-groups.csv').rename(columns={'id':'group_id'})\n",
    "\n",
    "ocenka_groups.head(5)"
   ]
  },
  {
   "cell_type": "code",
   "execution_count": null,
   "metadata": {},
   "outputs": [],
   "source": [
    "master_table = master_table.join(ocenka_groups.rename(columns={'number':'group_num'}).set_index('group_id'), on='group_id').dropna()\n",
    "\n",
    "master_table.drop(['group_id', 'edu_program_full_title'], axis=1, inplace=True)\n",
    "\n",
    "master_table.head(5)"
   ]
  },
  {
   "cell_type": "markdown",
   "metadata": {},
   "source": [
    "Получим id групп со всех баз"
   ]
  },
  {
   "cell_type": "code",
   "execution_count": null,
   "metadata": {},
   "outputs": [],
   "source": [
    "attendance_groups = pd.read_csv('C:\\\\MyFolders\\\\ASU2304\\\\TEST\\\\data\\\\attendance\\\\attendance-groups.csv').rename(columns={'id':'group_id'})\n",
    "\n",
    "attendance_groups.head(5)"
   ]
  },
  {
   "cell_type": "code",
   "execution_count": null,
   "metadata": {},
   "outputs": [],
   "source": [
    "timetable_groups = pd.read_csv('C:\\\\MyFolders\\\\ASU2304\\\\TEST\\\\data\\\\timetable\\\\timetable-groups.csv').rename(columns ={'id':'group_id'})\n",
    "\n",
    "timetable_groups.head(5)"
   ]
  },
  {
   "cell_type": "code",
   "execution_count": null,
   "metadata": {},
   "outputs": [],
   "source": [
    "master_table = master_table.join(ocenka_groups[['group_id', 'number']].rename(columns={'number':'group_num', 'group_id':'group_id_ocenka'}).set_index('group_num'), on='group_num').dropna()\n",
    "master_table = master_table.join(attendance_groups[['group_id', 'number']].rename(columns={'number':'group_num', 'group_id':'group_id_attendance'}).set_index('group_num'), on='group_num').dropna()\n",
    "master_table = master_table.join(timetable_groups[['group_id', 'number']].rename(columns={'number':'group_num', 'group_id':'group_id_timetable'}).set_index('group_num'), on='group_num').dropna()\n",
    "\n",
    "master_table = master_table.reset_index()\n",
    "\n",
    "master_table.head(10)"
   ]
  },
  {
   "cell_type": "markdown",
   "metadata": {},
   "source": [
    "Добавляем данные о семестре"
   ]
  },
  {
   "cell_type": "code",
   "execution_count": null,
   "metadata": {},
   "outputs": [],
   "source": [
    "timetable_courses = pd.read_csv('C:\\\\MyFolders\\\\ASU2304\\\\TEST\\\\data\\\\timetable\\\\timetable-courses.csv').rename(columns={'id':'course_id'})\n",
    "\n",
    "timetable_courses.head(5)"
   ]
  },
  {
   "cell_type": "code",
   "execution_count": null,
   "metadata": {},
   "outputs": [],
   "source": [
    "timetable_faculties = pd.read_csv('C:\\\\MyFolders\\\\ASU2304\\\\TEST\\\\data\\\\timetable\\\\timetable-faculties.csv').rename(columns={'id':'faculty_id'})\n",
    "\n",
    "timetable_faculties.head(5)"
   ]
  },
  {
   "cell_type": "code",
   "execution_count": null,
   "metadata": {},
   "outputs": [],
   "source": [
    "buffer_table = timetable_courses[['course_id', 'faculty_id']]\n",
    "\n",
    "buffer_table.head(5)"
   ]
  },
  {
   "cell_type": "code",
   "execution_count": null,
   "metadata": {},
   "outputs": [],
   "source": [
    "buffer_table = buffer_table.join(timetable_faculties[['faculty_id', 'semester_id']].set_index('faculty_id'), on='faculty_id').dropna()\n",
    "\n",
    "buffer_table.head(5)"
   ]
  },
  {
   "cell_type": "code",
   "execution_count": null,
   "metadata": {},
   "outputs": [],
   "source": [
    "buffer_table = buffer_table.set_index(['course_id', 'faculty_id']).sub(buffer_table['semester_id'].min()).reset_index()[['course_id', 'semester_id']]\n",
    "\n",
    "buffer_table.head(10)"
   ]
  },
  {
   "cell_type": "code",
   "execution_count": null,
   "metadata": {},
   "outputs": [],
   "source": [
    "master_table = master_table.join(timetable_groups[['group_id', 'course_id']].rename(columns={'group_id':'group_id_timetable'}).set_index('group_id_timetable'), on='group_id_timetable').dropna()\n",
    "\n",
    "master_table.head(10)"
   ]
  },
  {
   "cell_type": "code",
   "execution_count": null,
   "metadata": {},
   "outputs": [],
   "source": [
    "master_table = master_table.join(buffer_table.set_index('course_id'), on='course_id').dropna()\n",
    "\n",
    "master_table.head(5)"
   ]
  },
  {
   "cell_type": "code",
   "execution_count": null,
   "metadata": {},
   "outputs": [],
   "source": [
    "master_table.drop(['course_id'], axis=1,inplace=True)\n",
    "master_table = master_table.rename(columns={'semester_id':'semester'})\n",
    "\n",
    "master_table.head(5)"
   ]
  },
  {
   "cell_type": "markdown",
   "metadata": {},
   "source": [
    "Находим все дисциплины группы"
   ]
  },
  {
   "cell_type": "code",
   "execution_count": null,
   "metadata": {},
   "outputs": [],
   "source": [
    "timetable_educations = pd.read_csv('C:\\\\MyFolders\\\\ASU2304\\\\TEST\\\\data\\\\timetable\\\\timetable-educations.csv').rename(columns={'id':'edu_id'})\n",
    "\n",
    "timetable_educations.head(5)"
   ]
  },
  {
   "cell_type": "code",
   "execution_count": null,
   "metadata": {},
   "outputs": [],
   "source": [
    "timetable_disciplines = pd.read_csv('C:\\\\MyFolders\\\\ASU2304\\\\TEST\\\\data\\\\timetable\\\\timetable-disciplines.csv').rename(columns={'id':'discipline_id'})\n",
    "\n",
    "timetable_disciplines.head(5)"
   ]
  },
  {
   "cell_type": "code",
   "execution_count": null,
   "metadata": {},
   "outputs": [],
   "source": [
    "buffer_table = timetable_educations\n",
    "\n",
    "buffer_table = buffer_table.join(timetable_disciplines[['discipline_id', 'name']].rename(columns={'name':'names'}).set_index('discipline_id'), on='discipline_id').dropna()\n",
    "\n",
    "buffer_table.head(5)"
   ]
  },
  {
   "cell_type": "code",
   "execution_count": null,
   "metadata": {},
   "outputs": [],
   "source": [
    "master_table = master_table.join(buffer_table[['group_id', 'discipline_id', 'names']].rename(columns={'discipline_id':'discipline_id_timetable', 'names':'discipline_name_timetable'}).set_index('group_id'), on='group_id_timetable').dropna().reset_index()\n",
    "\n",
    "master_table.drop(['index'], axis=1,inplace=True)\n",
    "\n",
    "master_table.head(5)"
   ]
  },
  {
   "cell_type": "markdown",
   "metadata": {},
   "source": [
    "Считаем посещаемость"
   ]
  },
  {
   "cell_type": "code",
   "execution_count": null,
   "metadata": {},
   "outputs": [],
   "source": [
    "attendance_lessons = pd.read_csv(\"C:\\\\MyFolders\\\\ASU2304\\\\TEST\\\\data\\\\attendance\\\\attendance-lessons.csv\")\n",
    "\n",
    "attendance_lessons.head(5)"
   ]
  },
  {
   "cell_type": "code",
   "execution_count": null,
   "metadata": {},
   "outputs": [],
   "source": [
    "attendance_disciplines = pd.read_csv(\"C:\\\\MyFolders\\\\ASU2304\\\\TEST\\\\data\\\\attendance\\\\attendance-disciplines.csv\")\n",
    "\n",
    "attendance_disciplines.head(5)"
   ]
  },
  {
   "cell_type": "code",
   "execution_count": null,
   "metadata": {},
   "outputs": [],
   "source": [
    "attendance_presences = pd.read_csv(\"C:\\\\MyFolders\\\\ASU2304\\\\TEST\\\\data\\\\attendance\\\\attendance-presences.csv\")\n",
    "\n",
    "attendance_presences['state'].fillna('wasnt', inplace=True)\n",
    "\n",
    "attendance_presences.head(5)"
   ]
  },
  {
   "cell_type": "code",
   "execution_count": null,
   "metadata": {},
   "outputs": [],
   "source": [
    "buffer_table = attendance_lessons[['id', 'group_id', 'discipline_id', 'date_on', 'kind']].loc[((attendance_lessons['kind'] == 'lecture') |(attendance_lessons['kind'] == 'practice'))]\n",
    "buffer_table.head(5)"
   ]
  },
  {
   "cell_type": "code",
   "execution_count": null,
   "metadata": {},
   "outputs": [],
   "source": [
    "buffer_table = buffer_table.join(attendance_presences[['student_id', 'lesson_id', 'state']].set_index('lesson_id'), on='id').rename(columns={'date_on':'date'}).dropna().reset_index()\n",
    "\n",
    "buffer_table.drop(['index', 'id'], axis=1, inplace=True)\n",
    "\n",
    "buffer_table.head()"
   ]
  },
  {
   "cell_type": "code",
   "execution_count": null,
   "metadata": {},
   "outputs": [],
   "source": [
    "counter = 0\n",
    "for i in range(2018,2030):\n",
    "    buffer_table.loc[(buffer_table['date'] >= f'{i}-09-01') & (buffer_table['date'] < f'{i}-10-16'), 'period'] = 1\n",
    "    buffer_table.loc[(buffer_table['date'] >= f'{i}-10-16') & (buffer_table['date'] < f'{i}-12-04'), 'period'] = 2\n",
    "    buffer_table.loc[(buffer_table['date'] >= f'{i}-12-04') & (buffer_table['date'] < f'{i+1}-01-15'), 'period'] = 3\n",
    "    \n",
    "    buffer_table.loc[(buffer_table['date'] >= f'{i}-09-01') & (buffer_table['date'] <= f'{i+1}-01-15'), 'semester'] = counter\n",
    "    counter+=1\n",
    "    \n",
    "    \n",
    "    buffer_table.loc[(buffer_table['date'] >= f'{i+1}-02-03') & (buffer_table['date'] < f'{i+1}-03-15'), 'period'] = 1\n",
    "    buffer_table.loc[(buffer_table['date'] >= f'{i+1}-03-15') & (buffer_table['date'] < f'{i+1}-04-15'), 'period'] = 2\n",
    "    buffer_table.loc[(buffer_table['date'] >= f'{i+1}-04-15') & (buffer_table['date'] <= f'{i+1}-06-30'), 'period'] = 3\n",
    "    \n",
    "    buffer_table.loc[(buffer_table['date'] >= f'{i+1}-02-03') & (buffer_table['date'] <= f'{i+1}-06-30'), 'semester'] = counter\n",
    "    counter+=1\n",
    "\n",
    "buffer_table.dropna(inplace=True)\n",
    "\n",
    "buffer_table.drop('date', axis=1, inplace=True)\n",
    "\n",
    "buffer_table.head(5)"
   ]
  },
  {
   "cell_type": "code",
   "execution_count": null,
   "metadata": {},
   "outputs": [],
   "source": [
    "buffer_table.loc[buffer_table['state'] == 'was', 'state'] = 1\n",
    "buffer_table.loc[buffer_table['state'] == 'wasnt', 'state'] = 0\n",
    "\n",
    "buffer_table = buffer_table.reset_index()\n",
    "\n",
    "buffer_table.drop('index', axis=1, inplace=True)\n",
    "\n",
    "buffer_table.head(5)"
   ]
  },
  {
   "cell_type": "code",
   "execution_count": null,
   "metadata": {},
   "outputs": [],
   "source": [
    "sum = buffer_table\n",
    "sum = sum.groupby(['group_id', 'discipline_id', 'kind', 'student_id', 'period', 'semester'])['state'].sum().reset_index().rename(columns={'state':'count_presences'})\n",
    "\n",
    "sum.head(5)"
   ]
  },
  {
   "cell_type": "code",
   "execution_count": null,
   "metadata": {},
   "outputs": [],
   "source": [
    "count = buffer_table\n",
    "count = count.groupby(['group_id', 'discipline_id', 'kind', 'student_id', 'period', 'semester'])['state'].count().reset_index().rename(columns={'state':'count_lessons'})\n",
    "\n",
    "count.head(5)"
   ]
  },
  {
   "cell_type": "code",
   "execution_count": null,
   "metadata": {},
   "outputs": [],
   "source": [
    "buffer_table = sum.join(count[['count_lessons']]).dropna()\n",
    "\n",
    "buffer_table.head(5)"
   ]
  },
  {
   "cell_type": "code",
   "execution_count": null,
   "metadata": {},
   "outputs": [],
   "source": [
    "buffer_table['attendance'] = buffer_table['count_presences'] / buffer_table['count_lessons']\n",
    "\n",
    "buffer_table.drop('count_presences', axis=1, inplace=True)\n",
    "buffer_table.drop('count_lessons', axis=1, inplace=True)\n",
    "\n",
    "buffer_table.head(5)"
   ]
  },
  {
   "cell_type": "code",
   "execution_count": null,
   "metadata": {},
   "outputs": [],
   "source": [
    "buffer_table = buffer_table.join(attendance_disciplines.set_index('id'), on='discipline_id').dropna()\n",
    "\n",
    "buffer_table.drop('discipline_id', axis=1, inplace=True)\n",
    "buffer_table.drop('group_id', axis=1, inplace=True)\n",
    "buffer_table = buffer_table.rename(columns={'student_id':'attendance_id'})\n",
    "\n",
    "buffer_table.head(5)"
   ]
  },
  {
   "cell_type": "code",
   "execution_count": null,
   "metadata": {},
   "outputs": [],
   "source": [
    "master_table = master_table.join(buffer_table.set_index(['attendance_id', 'semester', 'title']), on=['attendance_id', 'semester', 'discipline_name_timetable']).dropna().rename(columns = {'discipline_name_timetable':'discipline_name'}).drop('discipline_id_timetable', axis=1)\n",
    "\n",
    "master_table.head(5)"
   ]
  },
  {
   "cell_type": "markdown",
   "metadata": {},
   "source": [
    "Собираем оценки"
   ]
  },
  {
   "cell_type": "code",
   "execution_count": null,
   "metadata": {},
   "outputs": [],
   "source": [
    "ocenka_semesters = pd.read_csv(\"C:\\\\MyFolders\\\\ASU2304\\\\TEST\\\\data\\\\ocenka\\\\ocenka-semesters.csv\").rename(columns={'id':'semester_id'})\n",
    "\n",
    "ocenka_semesters.head()"
   ]
  },
  {
   "cell_type": "code",
   "execution_count": null,
   "metadata": {},
   "outputs": [],
   "source": [
    "ocenka_discipline_semesters = pd.read_csv(\"C:\\\\MyFolders\\\\ASU2304\\\\TEST\\\\data\\\\ocenka\\\\ocenka-discipline-semesters.csv\").rename(columns={'id':'discipline_semester_id'})\n",
    "\n",
    "ocenka_discipline_semesters.head(5)"
   ]
  },
  {
   "cell_type": "code",
   "execution_count": null,
   "metadata": {},
   "outputs": [],
   "source": [
    "ocenka_disciplines = pd.read_csv(\"C:\\\\MyFolders\\\\ASU2304\\\\TEST\\\\data\\\\ocenka\\\\ocenka-disciplines.csv\").rename(columns={'id':'discipline_id'})\n",
    "\n",
    "ocenka_disciplines.head(5)"
   ]
  },
  {
   "cell_type": "code",
   "execution_count": null,
   "metadata": {},
   "outputs": [],
   "source": [
    "ocenka_marks = pd.read_csv(\"C:\\\\MyFolders\\\\ASU2304\\\\TEST\\\\data\\\\ocenka\\\\ocenka-marks.csv\").rename(columns={'id':'mark_id'})\n",
    "\n",
    "ocenka_marks.head(5)"
   ]
  },
  {
   "cell_type": "code",
   "execution_count": null,
   "metadata": {},
   "outputs": [],
   "source": [
    "ocenka_discipline_semesters_periods = pd.read_csv(\"C:\\\\MyFolders\\\\ASU2304\\\\TEST\\\\data\\\\ocenka\\\\ocenka-discipline-semester-periods.csv\").rename(columns={'id':'discipline_semester_period_id'})\n",
    "\n",
    "ocenka_discipline_semesters_periods.head(5)"
   ]
  },
  {
   "cell_type": "code",
   "execution_count": null,
   "metadata": {},
   "outputs": [],
   "source": [
    "buffer_table = ocenka_semesters\n",
    "\n",
    "buffer_table.head(5)"
   ]
  },
  {
   "cell_type": "code",
   "execution_count": null,
   "metadata": {},
   "outputs": [],
   "source": [
    "buffer_table.drop(['kind', 'academic_year'], axis=1, inplace=True)\n",
    "\n",
    "buffer_table['semester_num'] = buffer_table['semester_id'] - 11\n",
    "\n",
    "buffer_table.head(5)"
   ]
  },
  {
   "cell_type": "code",
   "execution_count": null,
   "metadata": {},
   "outputs": [],
   "source": [
    "buffer_table = buffer_table.join(ocenka_discipline_semesters.set_index('semester_id'), on='semester_id').dropna()\n",
    "\n",
    "buffer_table.head(5)"
   ]
  },
  {
   "cell_type": "code",
   "execution_count": null,
   "metadata": {},
   "outputs": [],
   "source": [
    "buffer_table = buffer_table.join(ocenka_disciplines.set_index('discipline_id'), on='discipline_id').drop('abbr', axis=1).dropna()\n",
    "\n",
    "buffer_table.head(5)"
   ]
  },
  {
   "cell_type": "code",
   "execution_count": null,
   "metadata": {},
   "outputs": [],
   "source": [
    "buffer_table = buffer_table.join(ocenka_discipline_semesters_periods.set_index('discipline_semester_id'), on='discipline_semester_id').dropna()\n",
    "\n",
    "buffer_table.head(5)"
   ]
  },
  {
   "cell_type": "code",
   "execution_count": null,
   "metadata": {},
   "outputs": [],
   "source": [
    "buffer_table = buffer_table.drop(['semester_id', 'discipline_semester_id', 'discipline_id', 'period_id', 'group_id'], axis=1).join(ocenka_marks.drop(['mark_id', 'marked_on', 'passed_on'], axis=1).set_index('discipline_semester_period_id'), on='discipline_semester_period_id').dropna().drop('discipline_semester_period_id', axis=1)\n",
    "\n",
    "buffer_table.head(5)"
   ]
  },
  {
   "cell_type": "code",
   "execution_count": null,
   "metadata": {},
   "outputs": [],
   "source": [
    "buffer_table.rename(columns={'semester_num':'semester', 'title':'discipline'}, inplace=True)\n",
    "buffer_table.reset_index(inplace=True)\n",
    "buffer_table.drop('index', axis=1, inplace=True)\n",
    "\n",
    "buffer_table.head(5)"
   ]
  },
  {
   "cell_type": "code",
   "execution_count": null,
   "metadata": {},
   "outputs": [],
   "source": [
    "buffer_table.loc[(buffer_table['kind'] == 'exam') | (buffer_table['kind'] == 'qualification') | (buffer_table['kind'] == 'diff_qualification') | (buffer_table['kind'] == 'qualification_with_mark'), 'period'] = 3\n",
    "buffer_table.loc[(buffer_table['kind'] == 'kt_2'), 'period'] = 2\n",
    "buffer_table.loc[(buffer_table['kind'] == 'kt_1'), 'period'] = 1\n",
    "buffer_table.loc[(buffer_table['kind'] == 'course_projecting'), 'period'] = None\n",
    "\n",
    "buffer_table.drop('kind', axis=1, inplace=True)\n",
    "buffer_table.dropna()\n",
    "\n",
    "buffer_table.head(5)"
   ]
  },
  {
   "cell_type": "code",
   "execution_count": null,
   "metadata": {},
   "outputs": [],
   "source": [
    "master_table = master_table.join(buffer_table.rename(columns={'student_id':'ocenka_id'}).set_index(['semester', 'discipline', 'ocenka_id', 'period']), on=['semester', 'discipline_name', 'ocenka_id', 'period']).reset_index().dropna()\n",
    "master_table['grade'] = master_table['grade']/5\n",
    "\n",
    "master_table.head(5)"
   ]
  },
  {
   "cell_type": "markdown",
   "metadata": {},
   "source": [
    "Создаем финальную таблицу, которая будет сформирована, как пример в начале"
   ]
  },
  {
   "cell_type": "code",
   "execution_count": null,
   "metadata": {},
   "outputs": [],
   "source": [
    "master_table.drop(['attendance_id', 'ocenka_id', 'group_num', 'group_id_ocenka', 'group_id_attendance', 'group_id_timetable'], axis=1, inplace=True)\n",
    "\n",
    "master_table.head(5)"
   ]
  },
  {
   "cell_type": "code",
   "execution_count": null,
   "metadata": {},
   "outputs": [],
   "source": [
    "final_table = pd.get_dummies(master_table, columns=['period', 'kind'])\n",
    "\n",
    "final_table.head(5)"
   ]
  },
  {
   "cell_type": "code",
   "execution_count": null,
   "metadata": {},
   "outputs": [],
   "source": [
    "final_table.loc[(final_table['period_1.0'] == True) & (final_table['kind_lecture'] == True), 'lecture_1'] = True\n",
    "final_table.loc[(final_table['period_2.0'] == True) & (final_table['kind_lecture'] == True), 'lecture_2'] = True\n",
    "final_table.loc[(final_table['period_3.0'] == True) & (final_table['kind_lecture'] == True), 'lecture_3'] = True\n",
    "\n",
    "final_table.loc[(final_table['period_1.0'] == True) & (final_table['kind_practice'] == True), 'practice_1'] = True\n",
    "final_table.loc[(final_table['period_2.0'] == True) & (final_table['kind_practice'] == True), 'practice_2'] = True\n",
    "final_table.loc[(final_table['period_3.0'] == True) & (final_table['kind_practice'] == True), 'practice_3'] = True\n",
    "\n",
    "final_table.loc[(final_table['period_1.0'] == True), 'kt_1'] = True\n",
    "final_table.loc[(final_table['period_2.0'] == True), 'kt_2'] = True\n",
    "final_table.loc[(final_table['period_3.0'] == True), 'exam'] = True\n",
    "\n",
    "final_table.drop(['period_1.0', 'period_2.0', 'period_3.0', 'kind_lecture', 'kind_practice'], axis=1, inplace=True)\n",
    "\n",
    "final_table.fillna(False, inplace=True)\n",
    "\n",
    "final_table.head(5)"
   ]
  },
  {
   "cell_type": "code",
   "execution_count": null,
   "metadata": {},
   "outputs": [],
   "source": [
    "def move_attendance(row):\n",
    "    for col in ['lecture_1', 'lecture_2', 'lecture_3', 'practice_1', 'practice_2', 'practice_3']:\n",
    "        if row[col]:\n",
    "            row[col] = row['attendance']\n",
    "        else:\n",
    "            row[col] = 0\n",
    "    return row\n",
    "\n",
    "def move_grade(row):\n",
    "    for col in ['kt_1', 'kt_2', 'exam']:\n",
    "        if row[col]:\n",
    "            row[col] = row['grade']\n",
    "        else:\n",
    "            row[col] = 0\n",
    "    return row\n",
    "\n",
    "final_table = final_table.apply(move_attendance, axis=1).drop(['index', 'attendance'], axis=1)\n",
    "final_table = final_table.apply(move_grade, axis=1).drop(['grade'], axis=1)\n",
    "\n",
    "final_table.head(15)"
   ]
  },
  {
   "cell_type": "code",
   "execution_count": null,
   "metadata": {},
   "outputs": [],
   "source": [
    "one = final_table.groupby(['connection_id', 'semester', 'discipline_name'])['lecture_1'].sum().reset_index()\n",
    "two = final_table.groupby(['connection_id', 'semester', 'discipline_name'])['lecture_2'].sum().reset_index()\n",
    "three = final_table.groupby(['connection_id', 'semester', 'discipline_name'])['lecture_3'].sum().reset_index()\n",
    "four = final_table.groupby(['connection_id', 'semester', 'discipline_name'])['practice_1'].sum().reset_index()\n",
    "five = final_table.groupby(['connection_id', 'semester', 'discipline_name'])['practice_2'].sum().reset_index()\n",
    "six = final_table.groupby(['connection_id', 'semester', 'discipline_name'])['practice_3'].sum().reset_index()\n",
    "\n",
    "seven = final_table.groupby(['connection_id', 'semester', 'discipline_name'])['kt_1'].sum().reset_index()\n",
    "eight = final_table.groupby(['connection_id', 'semester', 'discipline_name'])['kt_2'].sum().reset_index()\n",
    "nine = final_table.groupby(['connection_id', 'semester', 'discipline_name'])['exam'].sum().reset_index()\n",
    "\n",
    "final_table = one.join(two.set_index(['connection_id', 'semester', 'discipline_name']), on=['connection_id', 'semester', 'discipline_name'])\n",
    "final_table = final_table.join(three.set_index(['connection_id', 'semester', 'discipline_name']), on=['connection_id', 'semester', 'discipline_name'])\n",
    "final_table = final_table.join(four.set_index(['connection_id', 'semester', 'discipline_name']), on=['connection_id', 'semester', 'discipline_name'])\n",
    "final_table = final_table.join(five.set_index(['connection_id', 'semester', 'discipline_name']), on=['connection_id', 'semester', 'discipline_name'])\n",
    "final_table = final_table.join(six.set_index(['connection_id', 'semester', 'discipline_name']), on=['connection_id', 'semester', 'discipline_name'])\n",
    "\n",
    "final_table = final_table.join(seven.set_index(['connection_id', 'semester', 'discipline_name']), on=['connection_id', 'semester', 'discipline_name'])\n",
    "final_table = final_table.join(eight.set_index(['connection_id', 'semester', 'discipline_name']), on=['connection_id', 'semester', 'discipline_name'])\n",
    "final_table = final_table.join(nine.set_index(['connection_id', 'semester', 'discipline_name']), on=['connection_id', 'semester', 'discipline_name'])\n",
    "\n",
    "final_table.head(5)"
   ]
  },
  {
   "cell_type": "code",
   "execution_count": null,
   "metadata": {},
   "outputs": [],
   "source": [
    "def normalize(row):\n",
    "    for col in ['kt_1', 'kt_2', 'exam']:\n",
    "        row[col] /= 2\n",
    "    return row\n",
    "\n",
    "final_table = final_table.apply(normalize, axis=1)\n",
    "\n",
    "final_table.head(5)"
   ]
  },
  {
   "cell_type": "code",
   "execution_count": null,
   "metadata": {},
   "outputs": [],
   "source": [
    "def set_def_values(row):\n",
    "    for col in ['controls', 'labs']:\n",
    "        row[col] = 1\n",
    "    return row\n",
    "\n",
    "final_table = final_table.apply(set_def_values, axis=1)\n",
    "\n",
    "final_table.head(5)"
   ]
  },
  {
   "cell_type": "markdown",
   "metadata": {},
   "source": [
    "Сохраняем файл"
   ]
  },
  {
   "cell_type": "code",
   "execution_count": null,
   "metadata": {},
   "outputs": [],
   "source": [
    "final_table = final_table.reset_index().drop('index', axis=1)\n",
    "\n",
    "final_table.to_csv(\"C:\\\\MyFolders\\\\ASU2304\\\\TEST\\\\data\\\\final\\\\data.csv\")"
   ]
  },
  {
   "cell_type": "markdown",
   "metadata": {},
   "source": [
    "ЭЭЭЭЭКСПЕРИМЕНТЫ"
   ]
  },
  {
   "cell_type": "code",
   "execution_count": null,
   "metadata": {},
   "outputs": [],
   "source": []
  }
 ],
 "metadata": {
  "kernelspec": {
   "display_name": "Python 3",
   "language": "python",
   "name": "python3"
  },
  "language_info": {
   "codemirror_mode": {
    "name": "ipython",
    "version": 3
   },
   "file_extension": ".py",
   "mimetype": "text/x-python",
   "name": "python",
   "nbconvert_exporter": "python",
   "pygments_lexer": "ipython3",
   "version": "3.11.6"
  }
 },
 "nbformat": 4,
 "nbformat_minor": 2
}
