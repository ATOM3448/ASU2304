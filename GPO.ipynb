{
 "cells": [
  {
   "cell_type": "code",
   "execution_count": 1,
   "metadata": {},
   "outputs": [
    {
     "name": "stdout",
     "output_type": "stream",
     "text": [
      "2.14.0\n"
     ]
    }
   ],
   "source": [
    "import matplotlib.pyplot as plt\n",
    "import numpy as np\n",
    "import pandas as pd\n",
    "import tensorflow as tf\n",
    "\n",
    "from tensorflow import keras\n",
    "from keras import layers\n",
    "from keras import losses\n",
    "\n",
    "print(tf.__version__)"
   ]
  },
  {
   "cell_type": "markdown",
   "metadata": {},
   "source": [
    "## Построение модели\n",
    "На вход идут данные по коррелирующей дисциплине:\n",
    "1. Доля посешенных лекций в первом промежутке ($\\frac {посещено} {общее\\_количество}$)\n",
    "2. Доля посешенных лекций в первом промежутке ($\\frac {посещено} {общее\\_количество}$)\n",
    "3. Доля посешенных лекций в третьем промежутке ($\\frac {посещено} {общее\\_количество}$)\n",
    "4. Доля посешенных практик в первом промежутке ($\\frac {посещено} {общее\\_количество}$)\n",
    "5. Доля посешенных практик в первом промежутке ($\\frac {посещено} {общее\\_количество}$)\n",
    "6. Доля посешенных практик в третьем промежутке ($\\frac {посещено} {общее\\_количество}$)\n",
    "7. Оценка за КТ 1 ($\\frac {оценка} {5}$)\n",
    "8. Оценка за КТ 2 ($\\frac {оценка} {5}$)\n",
    "9. Оценка за экзамен \\[0,5\\] если зачет \\[0;5\\] ($\\frac {оценка} {5}$)\n",
    "10. Средний балл по контрольным ($\\frac {балл} {5}$)\n",
    "11. Доля выполненных лабораторных работ ($\\frac {выполнено} {общее\\_количество}$)\n",
    "12. Уровень корреляции дисциплины с прогнозируемой\n",
    "\n",
    "\n",
    "\n",
    "Также идут следующие метки:\n",
    "- Реальная оценка по дисциплине\n",
    "\n",
    "На выходе:\n",
    "- Уровни уверенности в прогнозируемой оценке"
   ]
  },
  {
   "cell_type": "code",
   "execution_count": 3,
   "metadata": {},
   "outputs": [],
   "source": [
    "model = keras.Sequential([\n",
    "    layers.Dense(12, input_dim=12, activation='elu'),\n",
    "    layers.Dense(4, activation='sigmoid')\n",
    "])\n",
    "\n",
    "model.compile(optimizer='adam', loss = losses.SparseCategoricalCrossentropy(from_logits=True), metrics = ['accuracy'])"
   ]
  },
  {
   "cell_type": "markdown",
   "metadata": {},
   "source": [
    "## Подготовка данных"
   ]
  },
  {
   "cell_type": "code",
   "execution_count": 3,
   "metadata": {},
   "outputs": [
    {
     "data": {
      "text/html": [
       "<div>\n",
       "<style scoped>\n",
       "    .dataframe tbody tr th:only-of-type {\n",
       "        vertical-align: middle;\n",
       "    }\n",
       "\n",
       "    .dataframe tbody tr th {\n",
       "        vertical-align: top;\n",
       "    }\n",
       "\n",
       "    .dataframe thead th {\n",
       "        text-align: right;\n",
       "    }\n",
       "</style>\n",
       "<table border=\"1\" class=\"dataframe\">\n",
       "  <thead>\n",
       "    <tr style=\"text-align: right;\">\n",
       "      <th></th>\n",
       "      <th>connection_id</th>\n",
       "      <th>semester</th>\n",
       "      <th>discipline_name</th>\n",
       "      <th>lecture_1</th>\n",
       "      <th>lecture_2</th>\n",
       "      <th>lecture_3</th>\n",
       "      <th>practice_1</th>\n",
       "      <th>practice_2</th>\n",
       "      <th>practice_3</th>\n",
       "      <th>kt_1</th>\n",
       "      <th>kt_2</th>\n",
       "      <th>exam</th>\n",
       "      <th>controls</th>\n",
       "      <th>labs</th>\n",
       "    </tr>\n",
       "  </thead>\n",
       "  <tbody>\n",
       "    <tr>\n",
       "      <th>0</th>\n",
       "      <td>157087</td>\n",
       "      <td>0</td>\n",
       "      <td>Информатика</td>\n",
       "      <td>0.666667</td>\n",
       "      <td>0.500000</td>\n",
       "      <td>1.000000</td>\n",
       "      <td>0.777778</td>\n",
       "      <td>0.818182</td>\n",
       "      <td>0.666667</td>\n",
       "      <td>0.6</td>\n",
       "      <td>0.6</td>\n",
       "      <td>0.6</td>\n",
       "      <td>1</td>\n",
       "      <td>1</td>\n",
       "    </tr>\n",
       "    <tr>\n",
       "      <th>1</th>\n",
       "      <td>157087</td>\n",
       "      <td>0</td>\n",
       "      <td>Компьютерная графика</td>\n",
       "      <td>0.666667</td>\n",
       "      <td>0.500000</td>\n",
       "      <td>0.500000</td>\n",
       "      <td>0.500000</td>\n",
       "      <td>1.000000</td>\n",
       "      <td>1.000000</td>\n",
       "      <td>0.4</td>\n",
       "      <td>0.6</td>\n",
       "      <td>1.0</td>\n",
       "      <td>1</td>\n",
       "      <td>1</td>\n",
       "    </tr>\n",
       "    <tr>\n",
       "      <th>2</th>\n",
       "      <td>157087</td>\n",
       "      <td>0</td>\n",
       "      <td>Математика</td>\n",
       "      <td>1.000000</td>\n",
       "      <td>0.714286</td>\n",
       "      <td>0.750000</td>\n",
       "      <td>0.500000</td>\n",
       "      <td>0.857143</td>\n",
       "      <td>0.750000</td>\n",
       "      <td>0.0</td>\n",
       "      <td>0.0</td>\n",
       "      <td>0.4</td>\n",
       "      <td>1</td>\n",
       "      <td>1</td>\n",
       "    </tr>\n",
       "    <tr>\n",
       "      <th>3</th>\n",
       "      <td>157087</td>\n",
       "      <td>0</td>\n",
       "      <td>Программирование</td>\n",
       "      <td>0.857143</td>\n",
       "      <td>0.166667</td>\n",
       "      <td>0.333333</td>\n",
       "      <td>0.333333</td>\n",
       "      <td>0.333333</td>\n",
       "      <td>0.000000</td>\n",
       "      <td>0.8</td>\n",
       "      <td>0.4</td>\n",
       "      <td>1.0</td>\n",
       "      <td>1</td>\n",
       "      <td>1</td>\n",
       "    </tr>\n",
       "    <tr>\n",
       "      <th>4</th>\n",
       "      <td>157087</td>\n",
       "      <td>1</td>\n",
       "      <td>История</td>\n",
       "      <td>0.333333</td>\n",
       "      <td>0.500000</td>\n",
       "      <td>0.000000</td>\n",
       "      <td>0.500000</td>\n",
       "      <td>0.666667</td>\n",
       "      <td>0.142857</td>\n",
       "      <td>0.6</td>\n",
       "      <td>0.4</td>\n",
       "      <td>0.6</td>\n",
       "      <td>1</td>\n",
       "      <td>1</td>\n",
       "    </tr>\n",
       "  </tbody>\n",
       "</table>\n",
       "</div>"
      ],
      "text/plain": [
       "   connection_id  semester       discipline_name  lecture_1  lecture_2  \\\n",
       "0         157087         0           Информатика   0.666667   0.500000   \n",
       "1         157087         0  Компьютерная графика   0.666667   0.500000   \n",
       "2         157087         0            Математика   1.000000   0.714286   \n",
       "3         157087         0      Программирование   0.857143   0.166667   \n",
       "4         157087         1               История   0.333333   0.500000   \n",
       "\n",
       "   lecture_3  practice_1  practice_2  practice_3  kt_1  kt_2  exam  controls  \\\n",
       "0   1.000000    0.777778    0.818182    0.666667   0.6   0.6   0.6         1   \n",
       "1   0.500000    0.500000    1.000000    1.000000   0.4   0.6   1.0         1   \n",
       "2   0.750000    0.500000    0.857143    0.750000   0.0   0.0   0.4         1   \n",
       "3   0.333333    0.333333    0.333333    0.000000   0.8   0.4   1.0         1   \n",
       "4   0.000000    0.500000    0.666667    0.142857   0.6   0.4   0.6         1   \n",
       "\n",
       "   labs  \n",
       "0     1  \n",
       "1     1  \n",
       "2     1  \n",
       "3     1  \n",
       "4     1  "
      ]
     },
     "execution_count": 3,
     "metadata": {},
     "output_type": "execute_result"
    }
   ],
   "source": [
    "table = pd.read_csv(\"C:\\\\MyFolders\\\\ASU2304\\\\TEST\\\\data\\\\final\\\\data.csv\").drop('Unnamed: 0', axis=1)\n",
    "\n",
    "table.head(5)"
   ]
  },
  {
   "cell_type": "code",
   "execution_count": 4,
   "metadata": {},
   "outputs": [
    {
     "data": {
      "text/plain": [
       "array([[157087, 0, 'Информатика', ..., 0.6, 1, 1],\n",
       "       [157087, 0, 'Компьютерная графика', ..., 1.0, 1, 1],\n",
       "       [157087, 0, 'Математика', ..., 0.4, 1, 1],\n",
       "       ...,\n",
       "       [158960, 0, 'Компьютерная графика', ..., 0.0, 1, 1],\n",
       "       [158960, 0, 'Математика', ..., 0.4, 1, 1],\n",
       "       [158960, 0, 'Программирование', ..., 0.0, 1, 1]], dtype=object)"
      ]
     },
     "execution_count": 4,
     "metadata": {},
     "output_type": "execute_result"
    }
   ],
   "source": [
    "data = table.values"
   ]
  },
  {
   "cell_type": "markdown",
   "metadata": {},
   "source": [
    "# Следующий уровень\n",
    "На вход идет:\n",
    "1. Средняя вероятность получить 5\n",
    "2. Средняя вероятность получить 4\n",
    "3. Средняя вероятность получить 3\n",
    "4. Средняя вероятность получить 2\n",
    "5. Средняя вероятность получить Н/А\n",
    "6. Средний уровень корреляции\n",
    "7. Вероятность получить 5 по максимальной корреляции\n",
    "8. Вероятность получить 4 по максимальной корреляции\n",
    "9. Вероятность получить 3 по максимальной корреляции\n",
    "10. Вероятность получить 2 по максимальной корреляции\n",
    "11. Вероятность получить Н/А по максимальной корреляции\n",
    "12. Максимальная корреляция\n",
    "13. Вероятность получить 5 по минимальной корреляции\n",
    "14. Вероятность получить 4 по минимальной корреляции\n",
    "15. Вероятность получить 3 по минимальной корреляции\n",
    "16. Вероятность получить 2 по минимальной корреляции\n",
    "17. Вероятность получить Н/А по минимальной корреляции\n",
    "18. Минимальная корреляция\n",
    "\n",
    "Метки:\n",
    "- Реальный полученный балл\n",
    "\n",
    "На выход:\n",
    "- Итоговое пердсказание"
   ]
  },
  {
   "cell_type": "code",
   "execution_count": 8,
   "metadata": {},
   "outputs": [],
   "source": [
    "model1 = keras.Sequential([\n",
    "    layers.Dense(18, input_dim=18, activation='elu'),\n",
    "    layers.Dense(4, activation='sigmoid')\n",
    "])\n",
    "\n",
    "model1.compile(optimizer='adam', loss = losses.SparseCategoricalCrossentropy(from_logits=True), metrics = ['accuracy'])"
   ]
  }
 ],
 "metadata": {
  "kernelspec": {
   "display_name": "Python 3",
   "language": "python",
   "name": "python3"
  },
  "language_info": {
   "codemirror_mode": {
    "name": "ipython",
    "version": 3
   },
   "file_extension": ".py",
   "mimetype": "text/x-python",
   "name": "python",
   "nbconvert_exporter": "python",
   "pygments_lexer": "ipython3",
   "version": "3.11.6"
  }
 },
 "nbformat": 4,
 "nbformat_minor": 2
}
