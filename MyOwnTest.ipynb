{
 "cells": [
  {
   "cell_type": "code",
   "execution_count": 1,
   "metadata": {},
   "outputs": [
    {
     "name": "stdout",
     "output_type": "stream",
     "text": [
      "2.14.0\n"
     ]
    }
   ],
   "source": [
    "import matplotlib.pyplot as plt\n",
    "import tensorflow as tf\n",
    "import numpy as np\n",
    "import shutil\n",
    "import string\n",
    "import os\n",
    "import re\n",
    "\n",
    "from tensorflow import keras\n",
    "from keras import layers\n",
    "from keras import losses\n",
    "\n",
    "print(tf.__version__)"
   ]
  },
  {
   "cell_type": "code",
   "execution_count": 2,
   "metadata": {},
   "outputs": [],
   "source": [
    "# Построение модели\n",
    "model = keras.Sequential()\n",
    "\n",
    "model.add(layers.Dense(32, activation='relu', input_dim=100))\n",
    "model.add(layers.Dense(1, activation='sigmoid'))"
   ]
  },
  {
   "cell_type": "code",
   "execution_count": 3,
   "metadata": {},
   "outputs": [],
   "source": [
    "# Компиляция модели\n",
    "model.compile(optimizer='rmsprop', loss='binary_crossentropy', metrics=['accuracy'])"
   ]
  },
  {
   "cell_type": "code",
   "execution_count": 4,
   "metadata": {},
   "outputs": [],
   "source": [
    "# Случайные данные\n",
    "size = 10000\n",
    "data = np.random.random((size, 100))\n",
    "labels = np.zeros((size, 1))\n",
    "\n",
    "for i in range(size):\n",
    "    sum = np.sum(data[i])\n",
    "    if (sum > 50.5) and (sum < 67.3):\n",
    "        labels[i][0] = 1"
   ]
  },
  {
   "cell_type": "code",
   "execution_count": 5,
   "metadata": {},
   "outputs": [
    {
     "name": "stdout",
     "output_type": "stream",
     "text": [
      "Epoch 1/2\n",
      "313/313 [==============================] - 1s 2ms/step - loss: 0.6889 - accuracy: 0.5489\n",
      "Epoch 2/2\n",
      "313/313 [==============================] - 1s 3ms/step - loss: 0.6788 - accuracy: 0.5692\n"
     ]
    },
    {
     "data": {
      "text/plain": [
       "<keras.src.callbacks.History at 0x26cd37e0890>"
      ]
     },
     "execution_count": 5,
     "metadata": {},
     "output_type": "execute_result"
    }
   ],
   "source": [
    "# Обучение модели\n",
    "model.fit(data, labels, epochs=2, batch_size=32)"
   ]
  },
  {
   "cell_type": "code",
   "execution_count": 6,
   "metadata": {},
   "outputs": [
    {
     "name": "stdout",
     "output_type": "stream",
     "text": [
      "32/32 [==============================] - 0s 1ms/step - loss: 0.6776 - accuracy: 0.5770\n"
     ]
    }
   ],
   "source": [
    "# Оценка качества\n",
    "size_test = 1000\n",
    "data_test = np.random.random((size_test, 100))\n",
    "labels_test = np.zeros((size_test, 1))\n",
    "\n",
    "for i in range(size_test):\n",
    "    sum = np.sum(data_test[i])\n",
    "    if (sum > 50.5) and (sum < 67.3):\n",
    "        labels_test[i][0] = 1\n",
    "\n",
    "loss_and_metrics = model.evaluate(data_test, labels_test, batch_size=32)"
   ]
  },
  {
   "cell_type": "code",
   "execution_count": 7,
   "metadata": {},
   "outputs": [
    {
     "name": "stdout",
     "output_type": "stream",
     "text": [
      "32/32 [==============================] - 0s 2ms/step\n"
     ]
    }
   ],
   "source": [
    "prediction = model.predict(data_test)"
   ]
  },
  {
   "cell_type": "code",
   "execution_count": 8,
   "metadata": {},
   "outputs": [
    {
     "name": "stdout",
     "output_type": "stream",
     "text": [
      "423\n",
      "0.423\n"
     ]
    }
   ],
   "source": [
    "count_er = 0\n",
    "for i in range(size_test):\n",
    "    sum = np.sum(data_test[i])\n",
    "    if (not((sum > 50.5) and (sum < 67.3)) and (prediction[i] > 0.5)) or (((sum > 50.5) and (sum < 67.3)) and (prediction[i] < 0.5)):\n",
    "        count_er += 1\n",
    "print(count_er)\n",
    "print(count_er/size_test)"
   ]
  }
 ],
 "metadata": {
  "kernelspec": {
   "display_name": "Python 3",
   "language": "python",
   "name": "python3"
  },
  "language_info": {
   "codemirror_mode": {
    "name": "ipython",
    "version": 3
   },
   "file_extension": ".py",
   "mimetype": "text/x-python",
   "name": "python",
   "nbconvert_exporter": "python",
   "pygments_lexer": "ipython3",
   "version": "3.11.6"
  }
 },
 "nbformat": 4,
 "nbformat_minor": 2
}
