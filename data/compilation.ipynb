{
 "cells": [
  {
   "cell_type": "code",
   "execution_count": null,
   "metadata": {},
   "outputs": [],
   "source": [
    "import pandas as pd\n",
    "import numpy as np"
   ]
  },
  {
   "cell_type": "markdown",
   "metadata": {},
   "source": [
    "Необходимо привести данные к виду:\n",
    "|Имя дисциплины|Посещаемость лекций 1 пром|Посещаемость лекций 2 пром|Посещаемость лекций 3 пром|Посещаемость практик 1 пром|Посещаемость практик 2 пром|Посещаемость практик 3 пром|КТ 1|КТ 2|Экзамен|Балл ктр|Балл лаб|\n",
    "|-|-|-|-|-|-|-|-|-|-|-|-|\n",
    "|Имя-семестр|[0,1]|[0,1]|[0,1]|[0,1]|[0,1]|[0,1]|[0,1]|[0,1]|[0,1]|1|1|\n",
    "\n",
    "# Реализация"
   ]
  },
  {
   "cell_type": "markdown",
   "metadata": {},
   "source": [
    "Берем таблицу attendance-students"
   ]
  },
  {
   "cell_type": "code",
   "execution_count": null,
   "metadata": {},
   "outputs": [],
   "source": [
    "attendance_students = pd.read_csv('C:\\\\MyFolders\\\\ASU2304\\\\TEST\\\\data\\\\attendance\\\\attendance-students.csv').rename(columns={'id':'attendance_id', 'contingent_id':'con_id'})\n",
    "\n",
    "attendance_students.head(5)"
   ]
  },
  {
   "cell_type": "markdown",
   "metadata": {},
   "source": [
    "Берем таблицу ocenka-students"
   ]
  },
  {
   "cell_type": "code",
   "execution_count": null,
   "metadata": {},
   "outputs": [],
   "source": [
    "ocenka_students = pd.read_csv('C:\\\\MyFolders\\\\ASU2304\\\\TEST\\\\data\\\\ocenka\\\\ocenka-students.csv').rename(columns={'id':'ocenka_id', 'study_id':'con_id'})\n",
    "\n",
    "ocenka_students.head(5)"
   ]
  },
  {
   "cell_type": "markdown",
   "metadata": {},
   "source": [
    "Добавляем эти таблицы в мастер-таблицу"
   ]
  },
  {
   "cell_type": "code",
   "execution_count": null,
   "metadata": {},
   "outputs": [],
   "source": [
    "master_table = attendance_students.set_index('con_id').join(ocenka_students.set_index('con_id'))\n",
    "\n",
    "master_table.head(5)"
   ]
  },
  {
   "cell_type": "markdown",
   "metadata": {},
   "source": [
    "Удаляем из таблицы все кроме id"
   ]
  },
  {
   "cell_type": "code",
   "execution_count": null,
   "metadata": {},
   "outputs": [],
   "source": [
    "master_table.drop(columns=['enrollment_at', 'deleted_at'], axis=1, inplace=True)\n",
    "\n",
    "master_table.head(5)"
   ]
  },
  {
   "cell_type": "markdown",
   "metadata": {},
   "source": [
    "Добавляем в таблицу группы и удаляем все, кроме id студентов и групп.\n",
    "\n",
    "В дальнейшем в принципе будет удаляться все, кроме интересующей информации, даже если придется её потом снова добавлять"
   ]
  },
  {
   "cell_type": "code",
   "execution_count": null,
   "metadata": {},
   "outputs": [],
   "source": [
    "ocenka_groups = pd.read_csv('C:\\\\MyFolders\\\\ASU2304\\\\TEST\\\\data\\\\ocenka\\\\ocenka-groups.csv').rename(columns={'id':'group_id'})\n",
    "\n",
    "ocenka_groups.head(5)"
   ]
  },
  {
   "cell_type": "code",
   "execution_count": null,
   "metadata": {},
   "outputs": [],
   "source": [
    "master_table = master_table.join(ocenka_groups.rename(columns={'number':'group_num'}).set_index('group_id'), on='group_id')\n",
    "\n",
    "master_table.drop(['group_id', 'edu_program_full_title'], axis=1, inplace=True)\n",
    "\n",
    "master_table.head(5)"
   ]
  },
  {
   "cell_type": "markdown",
   "metadata": {},
   "source": [
    "Получим id групп со всех баз"
   ]
  },
  {
   "cell_type": "code",
   "execution_count": null,
   "metadata": {},
   "outputs": [],
   "source": [
    "attendance_groups = pd.read_csv('C:\\\\MyFolders\\\\ASU2304\\\\TEST\\\\data\\\\attendance\\\\attendance-groups.csv').rename(columns={'id':'group_id'})\n",
    "\n",
    "attendance_groups.head(5)"
   ]
  },
  {
   "cell_type": "code",
   "execution_count": null,
   "metadata": {},
   "outputs": [],
   "source": [
    "timetable_groups = pd.read_csv('C:\\\\MyFolders\\\\ASU2304\\\\TEST\\\\data\\\\timetable\\\\timetable-groups.csv').rename(columns ={'id':'group_id'})\n",
    "\n",
    "timetable_groups.head(5)"
   ]
  },
  {
   "cell_type": "code",
   "execution_count": null,
   "metadata": {},
   "outputs": [],
   "source": [
    "master_table = master_table.join(ocenka_groups[['group_id', 'number']].rename(columns={'number':'group_num', 'group_id':'group_id_ocenka'}).set_index('group_num'), on='group_num')\n",
    "master_table = master_table.join(attendance_groups[['group_id', 'number']].rename(columns={'number':'group_num', 'group_id':'group_id_attendance'}).set_index('group_num'), on='group_num')\n",
    "master_table = master_table.join(timetable_groups[['group_id', 'number']].rename(columns={'number':'group_num', 'group_id':'group_id_timetable'}).set_index('group_num'), on='group_num')\n",
    "\n",
    "master_table = master_table.dropna()\n",
    "master_table = master_table.reset_index()\n",
    "\n",
    "master_table.head(10)"
   ]
  },
  {
   "cell_type": "markdown",
   "metadata": {},
   "source": [
    "Добавляем данные о семестре"
   ]
  },
  {
   "cell_type": "code",
   "execution_count": null,
   "metadata": {},
   "outputs": [],
   "source": [
    "timetable_courses = pd.read_csv('C:\\\\MyFolders\\\\ASU2304\\\\TEST\\\\data\\\\timetable\\\\timetable-courses.csv').rename(columns={'id':'course_id'})\n",
    "\n",
    "timetable_courses.head(5)"
   ]
  },
  {
   "cell_type": "code",
   "execution_count": null,
   "metadata": {},
   "outputs": [],
   "source": [
    "timetable_faculties = pd.read_csv('C:\\\\MyFolders\\\\ASU2304\\\\TEST\\\\data\\\\timetable\\\\timetable-faculties.csv').rename(columns={'id':'faculty_id'})\n",
    "\n",
    "timetable_faculties.head(5)"
   ]
  },
  {
   "cell_type": "code",
   "execution_count": null,
   "metadata": {},
   "outputs": [],
   "source": [
    "bufer_table = timetable_courses[['course_id', 'faculty_id']]\n",
    "\n",
    "bufer_table.head(5)"
   ]
  },
  {
   "cell_type": "code",
   "execution_count": null,
   "metadata": {},
   "outputs": [],
   "source": [
    "bufer_table = bufer_table.join(timetable_faculties[['faculty_id', 'semester_id']].set_index('faculty_id'), on='faculty_id')\n",
    "\n",
    "bufer_table.head(5)"
   ]
  },
  {
   "cell_type": "code",
   "execution_count": null,
   "metadata": {},
   "outputs": [],
   "source": [
    "bufer_table = bufer_table.set_index(['course_id', 'faculty_id']).sub(bufer_table['semester_id'].min()).reset_index()[['course_id', 'semester_id']]\n",
    "\n",
    "bufer_table.head(10)"
   ]
  },
  {
   "cell_type": "code",
   "execution_count": null,
   "metadata": {},
   "outputs": [],
   "source": [
    "master_table = master_table.join(timetable_groups[['group_id', 'course_id']].rename(columns={'group_id':'group_id_timetable'}).set_index('group_id_timetable'), on='group_id_timetable')\n",
    "\n",
    "master_table.head(10)"
   ]
  },
  {
   "cell_type": "code",
   "execution_count": null,
   "metadata": {},
   "outputs": [],
   "source": [
    "master_table = master_table.join(bufer_table.set_index('course_id'), on='course_id')\n",
    "\n",
    "master_table.head(5)"
   ]
  },
  {
   "cell_type": "code",
   "execution_count": null,
   "metadata": {},
   "outputs": [],
   "source": [
    "master_table.drop(['course_id'], axis=1,inplace=True)\n",
    "master_table = master_table.rename(columns={'semester_id':'semester'})\n",
    "\n",
    "master_table.head(5)"
   ]
  },
  {
   "cell_type": "markdown",
   "metadata": {},
   "source": [
    "Находим все дисциплины группы"
   ]
  },
  {
   "cell_type": "code",
   "execution_count": null,
   "metadata": {},
   "outputs": [],
   "source": [
    "timetable_educations = pd.read_csv('C:\\\\MyFolders\\\\ASU2304\\\\TEST\\\\data\\\\timetable\\\\timetable-educations.csv').rename(columns={'id':'edu_id'})\n",
    "\n",
    "timetable_educations.head(5)"
   ]
  },
  {
   "cell_type": "code",
   "execution_count": null,
   "metadata": {},
   "outputs": [],
   "source": [
    "timetable_disciplines = pd.read_csv('C:\\\\MyFolders\\\\ASU2304\\\\TEST\\\\data\\\\timetable\\\\timetable-disciplines.csv').rename(columns={'id':'discipline_id'})\n",
    "\n",
    "timetable_disciplines.head(5)"
   ]
  },
  {
   "cell_type": "code",
   "execution_count": null,
   "metadata": {},
   "outputs": [],
   "source": [
    "bufer_table = timetable_educations\n",
    "\n",
    "bufer_table = bufer_table.join(timetable_disciplines[['discipline_id', 'name']].rename(columns={'name':'names'}).set_index('discipline_id'), on='discipline_id').dropna()\n",
    "\n",
    "bufer_table.head(5)"
   ]
  },
  {
   "cell_type": "code",
   "execution_count": null,
   "metadata": {},
   "outputs": [],
   "source": [
    "master_table = master_table.join(bufer_table[['group_id', 'discipline_id', 'names']].rename(columns={'discipline_id':'discipline_id_timetable', 'names':'dicipline_name_timetable'}).set_index('group_id'), on='group_id_timetable').dropna().reset_index()\n",
    "\n",
    "master_table.drop(['index'], axis=1,inplace=True)\n",
    "\n",
    "master_table.head(5)"
   ]
  },
  {
   "cell_type": "markdown",
   "metadata": {},
   "source": [
    "Считаем посещаемость"
   ]
  },
  {
   "cell_type": "code",
   "execution_count": null,
   "metadata": {},
   "outputs": [],
   "source": [
    "attendance_lessons = pd.read_csv(\"C:\\\\MyFolders\\\\ASU2304\\\\TEST\\\\data\\\\attendance\\\\attendance-lessons.csv\")\n",
    "\n",
    "attendance_lessons.head(5)"
   ]
  },
  {
   "cell_type": "code",
   "execution_count": null,
   "metadata": {},
   "outputs": [],
   "source": [
    "attendance_disciplines = pd.read_csv(\"C:\\\\MyFolders\\\\ASU2304\\\\TEST\\\\data\\\\attendance\\\\attendance-disciplines.csv\")\n",
    "\n",
    "attendance_disciplines.head(5)"
   ]
  },
  {
   "cell_type": "code",
   "execution_count": null,
   "metadata": {},
   "outputs": [],
   "source": [
    "attendance_presences = pd.read_csv(\"C:\\\\MyFolders\\\\ASU2304\\\\TEST\\\\data\\\\attendance\\\\attendance-presences.csv\")\n",
    "\n",
    "attendance_presences['state'].fillna('wasnt', inplace=True)\n",
    "\n",
    "attendance_presences.head(5)"
   ]
  },
  {
   "cell_type": "code",
   "execution_count": null,
   "metadata": {},
   "outputs": [],
   "source": [
    "bufer_table = attendance_lessons[['id', 'group_id', 'discipline_id', 'date_on', 'kind']].loc[((attendance_lessons['kind'] == 'lecture') |(attendance_lessons['kind'] == 'practice'))]\n",
    "bufer_table.head(5)"
   ]
  },
  {
   "cell_type": "code",
   "execution_count": null,
   "metadata": {},
   "outputs": [],
   "source": [
    "bufer_table = bufer_table.join(attendance_presences[['student_id', 'lesson_id', 'state']].set_index('lesson_id'), on='id').rename(columns={'date_on':'date'}).dropna().reset_index()\n",
    "\n",
    "bufer_table.drop(['index', 'id'], axis=1, inplace=True)\n",
    "\n",
    "bufer_table.head()"
   ]
  },
  {
   "cell_type": "code",
   "execution_count": null,
   "metadata": {},
   "outputs": [],
   "source": [
    "counter = 0\n",
    "for i in range(2018,2030):\n",
    "    bufer_table.loc[(bufer_table['date'] >= f'{i}-09-01') & (bufer_table['date'] < f'{i}-10-16'), 'period'] = 1\n",
    "    bufer_table.loc[(bufer_table['date'] >= f'{i}-10-16') & (bufer_table['date'] < f'{i}-12-04'), 'period'] = 2\n",
    "    bufer_table.loc[(bufer_table['date'] >= f'{i}-12-04') & (bufer_table['date'] < f'{i+1}-01-15'), 'period'] = 3\n",
    "    \n",
    "    bufer_table.loc[(bufer_table['date'] >= f'{i}-09-01') & (bufer_table['date'] <= f'{i+1}-01-15'), 'semester'] = counter\n",
    "    counter+=1\n",
    "    \n",
    "    \n",
    "    bufer_table.loc[(bufer_table['date'] >= f'{i+1}-02-03') & (bufer_table['date'] < f'{i+1}-03-15'), 'period'] = 1\n",
    "    bufer_table.loc[(bufer_table['date'] >= f'{i+1}-03-15') & (bufer_table['date'] < f'{i+1}-04-15'), 'period'] = 2\n",
    "    bufer_table.loc[(bufer_table['date'] >= f'{i+1}-04-15') & (bufer_table['date'] <= f'{i+1}-06-30'), 'period'] = 3\n",
    "    \n",
    "    bufer_table.loc[(bufer_table['date'] >= f'{i+1}-02-03') & (bufer_table['date'] <= f'{i+1}-06-30'), 'semester'] = counter\n",
    "    counter+=1\n",
    "\n",
    "bufer_table.dropna(inplace=True)\n",
    "\n",
    "bufer_table.drop('date', axis=1, inplace=True)\n",
    "\n",
    "bufer_table.head(5)"
   ]
  },
  {
   "cell_type": "code",
   "execution_count": null,
   "metadata": {},
   "outputs": [],
   "source": [
    "bufer_table.loc[bufer_table['state'] == 'was', 'state'] = 1\n",
    "bufer_table.loc[bufer_table['state'] == 'wasnt', 'state'] = 0\n",
    "\n",
    "bufer_table = bufer_table.reset_index()\n",
    "\n",
    "bufer_table.drop('index', axis=1, inplace=True)\n",
    "\n",
    "bufer_table.head(5)"
   ]
  },
  {
   "cell_type": "code",
   "execution_count": null,
   "metadata": {},
   "outputs": [],
   "source": [
    "sum = bufer_table\n",
    "sum = sum.groupby(['group_id', 'discipline_id', 'kind', 'student_id', 'period', 'semester'])['state'].sum().reset_index().rename(columns={'state':'count_presences'})\n",
    "\n",
    "sum.head(5)"
   ]
  },
  {
   "cell_type": "code",
   "execution_count": null,
   "metadata": {},
   "outputs": [],
   "source": [
    "count = bufer_table\n",
    "count = count.groupby(['group_id', 'discipline_id', 'kind', 'student_id', 'period', 'semester'])['state'].count().reset_index().rename(columns={'state':'count_lessons'})\n",
    "\n",
    "count.head(5)"
   ]
  },
  {
   "cell_type": "code",
   "execution_count": null,
   "metadata": {},
   "outputs": [],
   "source": [
    "bufer_table = sum.join(count[['count_lessons']])\n",
    "\n",
    "bufer_table.head(5)"
   ]
  },
  {
   "cell_type": "code",
   "execution_count": null,
   "metadata": {},
   "outputs": [],
   "source": [
    "bufer_table['attendance'] = bufer_table['count_presences'] / bufer_table['count_lessons']\n",
    "\n",
    "bufer_table.drop('count_presences', axis=1, inplace=True)\n",
    "bufer_table.drop('count_lessons', axis=1, inplace=True)\n",
    "\n",
    "bufer_table.head(5)"
   ]
  },
  {
   "cell_type": "code",
   "execution_count": null,
   "metadata": {},
   "outputs": [],
   "source": [
    "bufer_table = bufer_table.join(attendance_disciplines.set_index('id'), on='discipline_id')\n",
    "\n",
    "bufer_table.drop('discipline_id', axis=1, inplace=True)\n",
    "bufer_table.drop('group_id', axis=1, inplace=True)\n",
    "bufer_table = bufer_table.rename(columns={'student_id':'attendance_id'})\n",
    "\n",
    "bufer_table.head(5)"
   ]
  },
  {
   "cell_type": "code",
   "execution_count": null,
   "metadata": {},
   "outputs": [],
   "source": [
    "master_table = master_table.join(bufer_table.set_index(['attendance_id', 'semester']), on=['attendance_id', 'semester']).dropna()\n",
    "\n",
    "master_table.head(5)"
   ]
  },
  {
   "cell_type": "markdown",
   "metadata": {},
   "source": [
    "Собираем оценки"
   ]
  },
  {
   "cell_type": "code",
   "execution_count": null,
   "metadata": {},
   "outputs": [],
   "source": [
    "ocenka_semesters = pd.read_csv(\"C:\\\\MyFolders\\\\ASU2304\\\\TEST\\\\data\\\\ocenka\\\\ocenka-semesters.csv\").rename(columns={'id':'semester_id'})\n",
    "\n",
    "ocenka_semesters.head()"
   ]
  },
  {
   "cell_type": "code",
   "execution_count": null,
   "metadata": {},
   "outputs": [],
   "source": [
    "ocenka_discipline_semesters = pd.read_csv(\"C:\\\\MyFolders\\\\ASU2304\\\\TEST\\\\data\\\\ocenka\\\\ocenka-discipline-semesters.csv\").rename(columns={'id':'discipline_semester_id'})\n",
    "\n",
    "ocenka_discipline_semesters.head(5)"
   ]
  },
  {
   "cell_type": "code",
   "execution_count": null,
   "metadata": {},
   "outputs": [],
   "source": [
    "ocenka_disciplines = pd.read_csv(\"C:\\\\MyFolders\\\\ASU2304\\\\TEST\\\\data\\\\ocenka\\\\ocenka-disciplines.csv\").rename(columns={'id':'discipline_id'})\n",
    "\n",
    "ocenka_disciplines.head(5)"
   ]
  },
  {
   "cell_type": "code",
   "execution_count": null,
   "metadata": {},
   "outputs": [],
   "source": [
    "ocenka_marks = pd.read_csv(\"C:\\\\MyFolders\\\\ASU2304\\\\TEST\\\\data\\\\ocenka\\\\ocenka-marks.csv\").rename(columns={'id':'mark_id'})\n",
    "\n",
    "ocenka_marks.head(5)"
   ]
  },
  {
   "cell_type": "code",
   "execution_count": null,
   "metadata": {},
   "outputs": [],
   "source": [
    "ocenka_discipline_semesters_periods = pd.read_csv(\"C:\\\\MyFolders\\\\ASU2304\\\\TEST\\\\data\\\\ocenka\\\\ocenka-discipline-semester-periods.csv\").rename(columns={'id':'discipline_semester_period_id'})"
   ]
  }
 ],
 "metadata": {
  "kernelspec": {
   "display_name": "Python 3",
   "language": "python",
   "name": "python3"
  },
  "language_info": {
   "codemirror_mode": {
    "name": "ipython",
    "version": 3
   },
   "file_extension": ".py",
   "mimetype": "text/x-python",
   "name": "python",
   "nbconvert_exporter": "python",
   "pygments_lexer": "ipython3",
   "version": "3.11.6"
  }
 },
 "nbformat": 4,
 "nbformat_minor": 2
}
