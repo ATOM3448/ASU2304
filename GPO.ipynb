{
 "cells": [
  {
   "cell_type": "code",
   "execution_count": 2,
   "metadata": {},
   "outputs": [
    {
     "name": "stdout",
     "output_type": "stream",
     "text": [
      "2.14.0\n"
     ]
    }
   ],
   "source": [
    "import matplotlib.pyplot as plt\n",
    "import tensorflow as tf\n",
    "import numpy as np\n",
    "\n",
    "from tensorflow import keras\n",
    "from keras import layers\n",
    "from keras import losses\n",
    "\n",
    "print(tf.__version__)"
   ]
  },
  {
   "cell_type": "markdown",
   "metadata": {},
   "source": [
    "## Построение модели\n",
    "На вход идут данные по коррелирующей дисциплине:\n",
    "1. Доля посешенных лекций в первом промежутке ($\\frac {посещено} {общее\\_количество}$)\n",
    "2. Доля посешенных лекций в первом промежутке ($\\frac {посещено} {общее\\_количество}$)\n",
    "3. Доля посешенных лекций в третьем промежутке ($\\frac {посещено} {общее\\_количество}$)\n",
    "4. Доля посешенных практик в первом промежутке ($\\frac {посещено} {общее\\_количество}$)\n",
    "5. Доля посешенных практик в первом промежутке ($\\frac {посещено} {общее\\_количество}$)\n",
    "6. Доля посешенных практик в третьем промежутке ($\\frac {посещено} {общее\\_количество}$)\n",
    "7. Оценка за КТ 1 ($\\frac {оценка} {5}$)\n",
    "8. Оценка за КТ 2 ($\\frac {оценка} {5}$)\n",
    "9. Оценка за экзамен \\[2,5\\] если зачет \\[2;5\\] ($\\frac {оценка} {5}$)\n",
    "10. Средний балл по контрольным ($\\frac {балл} {5}$)\n",
    "11. Доля выполненных лабораторных работ ($\\frac {выполнено} {общее\\_количество}$)\n",
    "12. Уровень корреляции дисциплины с прогнозируемой\n",
    "\n",
    "\n",
    "\n",
    "Также идут следующие метки:\n",
    "- Реальная оценка по дисциплине\n",
    "\n",
    "На выходе:\n",
    "- Уровни уверенности в прогнозируемой оценке"
   ]
  },
  {
   "cell_type": "code",
   "execution_count": 3,
   "metadata": {},
   "outputs": [],
   "source": [
    "model = keras.Sequential([\n",
    "    layers.Dense(12, input_dim=12, activation='elu'),\n",
    "    layers.Dense(4, activation='sigmoid')\n",
    "])\n",
    "\n",
    "model.compile(optimizer='adam', loss = losses.SparseCategoricalCrossentropy(from_logits=True), metrics = ['accuracy'])"
   ]
  },
  {
   "cell_type": "markdown",
   "metadata": {},
   "source": [
    "## Ниже идет баловство со случайными данными."
   ]
  },
  {
   "cell_type": "code",
   "execution_count": 4,
   "metadata": {},
   "outputs": [],
   "source": [
    "# Генерация\n",
    "size = 10000\n",
    "data = np.random.random((size, 12))\n",
    "for i in range(size): \n",
    "    for j in range(12):\n",
    "        if (data[i][j] < 2/5) and (j != 11):\n",
    "            data[i][j] = 2/5\n",
    "\n",
    "labels = np.random.randint(size=(size, 1), low=0, high=4)\n",
    "\n",
    "#for i in range(size):\n",
    "#    labels[i][0] = 1"
   ]
  },
  {
   "cell_type": "code",
   "execution_count": 5,
   "metadata": {},
   "outputs": [
    {
     "name": "stdout",
     "output_type": "stream",
     "text": [
      "Epoch 1/5\n"
     ]
    },
    {
     "name": "stderr",
     "output_type": "stream",
     "text": [
      "C:\\Users\\Qwery\\AppData\\Local\\Packages\\PythonSoftwareFoundation.Python.3.11_qbz5n2kfra8p0\\LocalCache\\local-packages\\Python311\\site-packages\\keras\\src\\backend.py:5729: UserWarning: \"`sparse_categorical_crossentropy` received `from_logits=True`, but the `output` argument was produced by a Softmax activation and thus does not represent logits. Was this intended?\n",
      "  output, from_logits = _get_logits(\n"
     ]
    },
    {
     "name": "stdout",
     "output_type": "stream",
     "text": [
      "313/313 [==============================] - 1s 1ms/step - loss: 1.4064 - accuracy: 0.2418\n",
      "Epoch 2/5\n",
      "313/313 [==============================] - 0s 1ms/step - loss: 1.3965 - accuracy: 0.2425\n",
      "Epoch 3/5\n",
      "313/313 [==============================] - 0s 1ms/step - loss: 1.3930 - accuracy: 0.2478\n",
      "Epoch 4/5\n",
      "313/313 [==============================] - 0s 1ms/step - loss: 1.3907 - accuracy: 0.2481\n",
      "Epoch 5/5\n",
      "313/313 [==============================] - 0s 1ms/step - loss: 1.3897 - accuracy: 0.2486\n"
     ]
    },
    {
     "data": {
      "text/plain": [
       "<keras.src.callbacks.History at 0x1f59e1239d0>"
      ]
     },
     "execution_count": 5,
     "metadata": {},
     "output_type": "execute_result"
    }
   ],
   "source": [
    "# Обучение\n",
    "model.fit(data, labels, epochs=5, batch_size=32)"
   ]
  },
  {
   "cell_type": "code",
   "execution_count": 6,
   "metadata": {},
   "outputs": [
    {
     "name": "stdout",
     "output_type": "stream",
     "text": [
      "32/32 [==============================] - 0s 1ms/step - loss: 1.3909 - accuracy: 0.2440\n"
     ]
    }
   ],
   "source": [
    "# Оценка качества\n",
    "size_test = 1000\n",
    "data_test = np.random.random((size_test, 12))\n",
    "for i in range(size_test): \n",
    "    for j in range(12):\n",
    "        if (data_test[i][j] < 2/5) and (j != 11):\n",
    "            data_test[i][j] = 2/5\n",
    "\n",
    "labels_test = np.random.randint(size=(size_test, 1), low=0, high=4)\n",
    "\n",
    "loss_and_metrics = model.evaluate(data_test, labels_test, batch_size=32)"
   ]
  },
  {
   "cell_type": "code",
   "execution_count": 7,
   "metadata": {},
   "outputs": [
    {
     "name": "stdout",
     "output_type": "stream",
     "text": [
      "32/32 [==============================] - 0s 901us/step\n"
     ]
    }
   ],
   "source": [
    "# Предсказание\n",
    "prediction = model.predict(data_test)"
   ]
  },
  {
   "cell_type": "markdown",
   "metadata": {},
   "source": [
    "# Идея следующего уровня\n",
    "На вход идет:\n",
    "1. Средний предсказанный балл\n",
    "2. Средний уровень корреляции\n",
    "3. Балл по максимальной корреляции\n",
    "4. Уровень максимальной корреляции\n",
    "5. Балл по минимальной корреляции\n",
    "6. Уровень минимальной корреляции\n",
    "\n",
    "Метки:\n",
    "- Реальный полученный балл\n",
    "\n",
    "На выход:\n",
    "- Итоговое пердсказание"
   ]
  },
  {
   "cell_type": "code",
   "execution_count": 8,
   "metadata": {},
   "outputs": [],
   "source": [
    "model1 = keras.Sequential([\n",
    "    layers.Dense(6, input_dim=6, activation='elu'),\n",
    "    layers.Dense(4, activation='sigmoid')\n",
    "])\n",
    "\n",
    "model1.compile(optimizer='adam', loss = losses.SparseCategoricalCrossentropy(from_logits=True), metrics = ['accuracy'])"
   ]
  }
 ],
 "metadata": {
  "kernelspec": {
   "display_name": "Python 3",
   "language": "python",
   "name": "python3"
  },
  "language_info": {
   "codemirror_mode": {
    "name": "ipython",
    "version": 3
   },
   "file_extension": ".py",
   "mimetype": "text/x-python",
   "name": "python",
   "nbconvert_exporter": "python",
   "pygments_lexer": "ipython3",
   "version": "3.11.6"
  }
 },
 "nbformat": 4,
 "nbformat_minor": 2
}
